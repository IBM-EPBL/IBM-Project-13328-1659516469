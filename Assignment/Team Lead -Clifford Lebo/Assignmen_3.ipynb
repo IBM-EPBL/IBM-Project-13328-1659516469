{
  "cells": [
    {
      "cell_type": "code",
      "execution_count": null,
      "metadata": {
        "id": "4iQCzdxfhabn"
      },
      "outputs": [],
      "source": [
        "from google.colab import drive"
      ]
    },
    {
      "cell_type": "code",
      "execution_count": null,
      "metadata": {
        "colab": {
          "base_uri": "https://localhost:8080/"
        },
        "id": "RkZmOWVHiFLS",
        "outputId": "0bd137e0-056d-432a-eac5-3b9b81ee13ad"
      },
      "outputs": [
        {
          "output_type": "stream",
          "name": "stdout",
          "text": [
            "Drive already mounted at /content/drive; to attempt to forcibly remount, call drive.mount(\"/content/drive\", force_remount=True).\n"
          ]
        }
      ],
      "source": [
        "drive.mount(\"/content/drive\")"
      ]
    },
    {
      "cell_type": "code",
      "execution_count": null,
      "metadata": {
        "colab": {
          "base_uri": "https://localhost:8080/"
        },
        "id": "q3h9Iyu3iLwA",
        "outputId": "da932f94-f4db-44b8-f7b3-5d16005ea0f4"
      },
      "outputs": [
        {
          "output_type": "stream",
          "name": "stdout",
          "text": [
            "/content/drive/My Drive/IBM/Ass 3\n"
          ]
        }
      ],
      "source": [
        "%cd '/content/drive/My Drive/IBM/Ass 3'"
      ]
    },
    {
      "cell_type": "code",
      "execution_count": null,
      "metadata": {
        "id": "AQDP357tiWx5"
      },
      "outputs": [],
      "source": [
        "import tensorflow as tf\n",
        "from keras.preprocessing.image import ImageDataGenerator"
      ]
    },
    {
      "cell_type": "markdown",
      "metadata": {
        "id": "jG5DJz4ciit4"
      },
      "source": [
        "# Image Augmentation "
      ]
    },
    {
      "cell_type": "code",
      "execution_count": null,
      "metadata": {
        "id": "GSiAnZvzirJb"
      },
      "outputs": [],
      "source": [
        "train_datagen = ImageDataGenerator(rescale=1./255,zoom_range=0.2,horizontal_flip=True,vertical_flip=True)\n",
        "test_datagen = ImageDataGenerator(rescale=1./255)"
      ]
    },
    {
      "cell_type": "code",
      "execution_count": null,
      "metadata": {
        "id": "V4oTl4W1kY8h",
        "colab": {
          "base_uri": "https://localhost:8080/"
        },
        "outputId": "fbfc2664-9fff-464e-b909-59ca6be9568b"
      },
      "outputs": [
        {
          "output_type": "stream",
          "name": "stdout",
          "text": [
            "Found 4327 images belonging to 5 classes.\n"
          ]
        }
      ],
      "source": [
        "xtrain = train_datagen.flow_from_directory('/content/drive/MyDrive/IBM/Ass 3/flowers/flowers',target_size=(64,64),class_mode='categorical',batch_size=100)\n"
      ]
    },
    {
      "cell_type": "code",
      "execution_count": null,
      "metadata": {
        "id": "jJKTPTc_lH7o",
        "colab": {
          "base_uri": "https://localhost:8080/"
        },
        "outputId": "74fd2972-ad9c-4ed1-ff9d-653e85414ea0"
      },
      "outputs": [
        {
          "output_type": "stream",
          "name": "stdout",
          "text": [
            "Found 4327 images belonging to 5 classes.\n"
          ]
        }
      ],
      "source": [
        "xtest = test_datagen.flow_from_directory('/content/drive/MyDrive/IBM/Ass 3/flowers/flowers',target_size=(64,64),class_mode='categorical',batch_size=100)"
      ]
    },
    {
      "cell_type": "markdown",
      "metadata": {
        "id": "E4eXVykclMXp"
      },
      "source": [
        "# Model Creation"
      ]
    },
    {
      "cell_type": "code",
      "execution_count": null,
      "metadata": {
        "id": "Pp6wsctDlY3_"
      },
      "outputs": [],
      "source": [
        "from tensorflow.keras.models import Sequential\n",
        "from tensorflow.keras.layers import Convolution2D,MaxPooling2D,Flatten,Dense"
      ]
    },
    {
      "cell_type": "code",
      "execution_count": null,
      "metadata": {
        "id": "dE2yt0T-ld3V"
      },
      "outputs": [],
      "source": [
        "cnn = Sequential()"
      ]
    },
    {
      "cell_type": "markdown",
      "metadata": {
        "id": "DB506G4kliHH"
      },
      "source": [
        "# Adding Layers"
      ]
    },
    {
      "cell_type": "markdown",
      "metadata": {
        "id": "A-qsLFgylqh0"
      },
      "source": [
        "##Adding Convolution Layer\n",
        "\n"
      ]
    },
    {
      "cell_type": "code",
      "execution_count": null,
      "metadata": {
        "id": "NhL1jpf1lhrl",
        "colab": {
          "base_uri": "https://localhost:8080/"
        },
        "outputId": "5def0fe9-c705-46e4-df46-0b7d9571f97b"
      },
      "outputs": [
        {
          "output_type": "stream",
          "name": "stdout",
          "text": [
            "Layer added successfully\n"
          ]
        }
      ],
      "source": [
        "cnn.add(Convolution2D(32,(3,3),activation='relu',input_shape=(64,64,3)))\n",
        "print(\"Layer added successfully\")"
      ]
    },
    {
      "cell_type": "markdown",
      "metadata": {
        "id": "eCeier3CmDyr"
      },
      "source": [
        "##Adding MaxPooling Layer"
      ]
    },
    {
      "cell_type": "code",
      "execution_count": null,
      "metadata": {
        "id": "_ZXD6uXAmH9R",
        "colab": {
          "base_uri": "https://localhost:8080/"
        },
        "outputId": "76c6816d-7dc8-49e1-f70d-fe34a4a51670"
      },
      "outputs": [
        {
          "output_type": "stream",
          "name": "stdout",
          "text": [
            "Layer added successfully\n"
          ]
        }
      ],
      "source": [
        "cnn.add(MaxPooling2D(pool_size=(2,2)))\n",
        "print(\"Layer added successfully\")"
      ]
    },
    {
      "cell_type": "markdown",
      "metadata": {
        "id": "ElKBxP7vmSNM"
      },
      "source": [
        "##Adding Flattern Layer"
      ]
    },
    {
      "cell_type": "code",
      "execution_count": null,
      "metadata": {
        "id": "y0fQYomIqr7r",
        "colab": {
          "base_uri": "https://localhost:8080/"
        },
        "outputId": "ef9f95ef-73bc-4ae0-91bc-01c931f0bf7b"
      },
      "outputs": [
        {
          "output_type": "stream",
          "name": "stdout",
          "text": [
            "Layer added successfully\n"
          ]
        }
      ],
      "source": [
        "cnn.add(Flatten())\n",
        "print(\"Layer added successfully\")"
      ]
    },
    {
      "cell_type": "markdown",
      "metadata": {
        "id": "oh9r9B0lqufy"
      },
      "source": [
        "## Adding Dense Layer"
      ]
    },
    {
      "cell_type": "code",
      "execution_count": null,
      "metadata": {
        "id": "2CzNndHIq7Cm",
        "colab": {
          "base_uri": "https://localhost:8080/"
        },
        "outputId": "39769921-41bf-4772-ccb9-068636b3e710"
      },
      "outputs": [
        {
          "output_type": "stream",
          "name": "stdout",
          "text": [
            "Layer added successfully\n"
          ]
        }
      ],
      "source": [
        "cnn.add(Dense(300,activation='relu')) #hiddenlayer 1\n",
        "cnn.add(Dense(300,activation='relu')) #hiddenlayer 2\n",
        "cnn.add(Dense(150,activation='relu')) #hiddenlayer 3\n",
        "print(\"Layer added successfully\")"
      ]
    },
    {
      "cell_type": "markdown",
      "metadata": {
        "id": "EU-AfQ_d5kQC"
      },
      "source": [
        "## Adding Output Layer"
      ]
    },
    {
      "cell_type": "code",
      "execution_count": null,
      "metadata": {
        "id": "4aL87ItGrlNW",
        "colab": {
          "base_uri": "https://localhost:8080/"
        },
        "outputId": "b8f0ac90-e276-445c-cd8a-534effc74005"
      },
      "outputs": [
        {
          "output_type": "stream",
          "name": "stdout",
          "text": [
            "Layer added successfully\n"
          ]
        }
      ],
      "source": [
        "cnn.add(Dense(5,activation='softmax'))\n",
        "print(\"Layer added successfully\")"
      ]
    },
    {
      "cell_type": "markdown",
      "source": [
        "# Model Compilation"
      ],
      "metadata": {
        "id": "xbsKzCDn8Nt7"
      }
    },
    {
      "cell_type": "code",
      "source": [
        "cnn.compile(optimizer='adam',loss='categorical_crossentropy',metrics=['accuracy'])"
      ],
      "metadata": {
        "id": "VL0ml6m98f48"
      },
      "execution_count": null,
      "outputs": []
    },
    {
      "cell_type": "code",
      "source": [
        "cnn.fit_generator(xtrain,\n",
        "                    steps_per_epoch=len(xtrain),\n",
        "                    epochs=10,                \n",
        "                    validation_data=xtest,\n",
        "                    validation_steps=len(xtest))"
      ],
      "metadata": {
        "colab": {
          "base_uri": "https://localhost:8080/"
        },
        "id": "dvpy4MIk8iTr",
        "outputId": "b9c925d1-f1cb-4ce4-f727-498946fb06fb"
      },
      "execution_count": null,
      "outputs": [
        {
          "output_type": "stream",
          "name": "stderr",
          "text": [
            "/usr/local/lib/python3.7/dist-packages/ipykernel_launcher.py:5: UserWarning: `Model.fit_generator` is deprecated and will be removed in a future version. Please use `Model.fit`, which supports generators.\n",
            "  \"\"\"\n"
          ]
        },
        {
          "output_type": "stream",
          "name": "stdout",
          "text": [
            "Epoch 1/10\n",
            "44/44 [==============================] - 708s 16s/step - loss: 1.6092 - accuracy: 0.3547 - val_loss: 1.2490 - val_accuracy: 0.4659\n",
            "Epoch 2/10\n",
            "44/44 [==============================] - 34s 781ms/step - loss: 1.1457 - accuracy: 0.5267 - val_loss: 1.2371 - val_accuracy: 0.5211\n",
            "Epoch 3/10\n",
            "44/44 [==============================] - 34s 774ms/step - loss: 1.0574 - accuracy: 0.5761 - val_loss: 1.0196 - val_accuracy: 0.6002\n",
            "Epoch 4/10\n",
            "44/44 [==============================] - 34s 776ms/step - loss: 1.0049 - accuracy: 0.6034 - val_loss: 1.1017 - val_accuracy: 0.5787\n",
            "Epoch 5/10\n",
            "44/44 [==============================] - 35s 794ms/step - loss: 0.9455 - accuracy: 0.6305 - val_loss: 0.9864 - val_accuracy: 0.6272\n",
            "Epoch 6/10\n",
            "44/44 [==============================] - 34s 769ms/step - loss: 0.9189 - accuracy: 0.6395 - val_loss: 0.9209 - val_accuracy: 0.6330\n",
            "Epoch 7/10\n",
            "44/44 [==============================] - 34s 775ms/step - loss: 0.8769 - accuracy: 0.6621 - val_loss: 0.8840 - val_accuracy: 0.6630\n",
            "Epoch 8/10\n",
            "44/44 [==============================] - 34s 782ms/step - loss: 0.8449 - accuracy: 0.6769 - val_loss: 0.8124 - val_accuracy: 0.6908\n",
            "Epoch 9/10\n",
            "44/44 [==============================] - 34s 781ms/step - loss: 0.8323 - accuracy: 0.6804 - val_loss: 0.7835 - val_accuracy: 0.7028\n",
            "Epoch 10/10\n",
            "44/44 [==============================] - 33s 764ms/step - loss: 0.8104 - accuracy: 0.6892 - val_loss: 0.7688 - val_accuracy: 0.7095\n"
          ]
        },
        {
          "output_type": "execute_result",
          "data": {
            "text/plain": [
              "<keras.callbacks.History at 0x7f33405a1d10>"
            ]
          },
          "metadata": {},
          "execution_count": 16
        }
      ]
    },
    {
      "cell_type": "code",
      "source": [],
      "metadata": {
        "id": "YZMXysO08lTa"
      },
      "execution_count": null,
      "outputs": []
    },
    {
      "cell_type": "markdown",
      "source": [
        "# Model Saving "
      ],
      "metadata": {
        "id": "Iq6IiyyT8WV9"
      }
    },
    {
      "cell_type": "code",
      "source": [
        "cnn.save('Flowers.h5')"
      ],
      "metadata": {
        "id": "IYoipNyx8uSn"
      },
      "execution_count": null,
      "outputs": []
    },
    {
      "cell_type": "markdown",
      "source": [
        "# Model Testing"
      ],
      "metadata": {
        "id": "tz8a2yeJ82LZ"
      }
    },
    {
      "cell_type": "code",
      "source": [
        "import numpy as np\n",
        "from tensorflow.keras.preprocessing import image"
      ],
      "metadata": {
        "id": "Oo-HldWt81zs"
      },
      "execution_count": null,
      "outputs": []
    },
    {
      "cell_type": "code",
      "source": [
        "img = image.load_img('/content/drive/MyDrive/IBM/Ass 3/flowers/test/sftest.jpg',target_size=(64,64))"
      ],
      "metadata": {
        "id": "v59s3R2vH0sY"
      },
      "execution_count": null,
      "outputs": []
    },
    {
      "cell_type": "code",
      "source": [
        "img"
      ],
      "metadata": {
        "colab": {
          "base_uri": "https://localhost:8080/",
          "height": 81
        },
        "id": "VTWPic8GH3uR",
        "outputId": "8aa8603c-ab15-44f9-ce6e-05e9553674c4"
      },
      "execution_count": null,
      "outputs": [
        {
          "output_type": "execute_result",
          "data": {
            "text/plain": [
              "<PIL.Image.Image image mode=RGB size=64x64 at 0x7F33401F85D0>"
            ],
            "image/png": "[encoded data removed]"
          },
          "metadata": {},
          "execution_count": 22
        }
      ]
    },
    {
      "cell_type": "code",
      "source": [
        "narray = image.img_to_array(img)\n",
        "narray"
      ],
      "metadata": {
        "colab": {
          "base_uri": "https://localhost:8080/"
        },
        "id": "UFq_EOKDJARV",
        "outputId": "f77e8f73-80e2-4724-c923-1bd2c7964c26"
      },
      "execution_count": null,
      "outputs": [
        {
          "output_type": "execute_result",
          "data": {
            "text/plain": [
              "array([[[ 63.,  88., 154.],\n",
              "        [ 70.,  94., 166.],\n",
              "        [ 55.,  81., 156.],\n",
              "        ...,\n",
              "        [176., 185., 200.],\n",
              "        [173., 184., 202.],\n",
              "        [181., 187., 199.]],\n",
              "\n",
              "       [[ 18.,  45., 148.],\n",
              "        [ 54.,  81., 158.],\n",
              "        [ 58.,  84., 158.],\n",
              "        ...,\n",
              "        [179., 189., 201.],\n",
              "        [187., 195., 208.],\n",
              "        [186., 194., 205.]],\n",
              "\n",
              "       [[  2.,  22., 143.],\n",
              "        [ 10.,  34., 156.],\n",
              "        [ 51.,  77., 172.],\n",
              "        ...,\n",
              "        [189., 199., 211.],\n",
              "        [193., 199., 215.],\n",
              "        [189., 195., 209.]],\n",
              "\n",
              "       ...,\n",
              "\n",
              "       [[ 29.,  33.,   6.],\n",
              "        [101.,  91.,  56.],\n",
              "        [103.,  66.,  22.],\n",
              "        ...,\n",
              "        [ 40.,  15.,  21.],\n",
              "        [ 92.,  65.,  72.],\n",
              "        [188., 173., 144.]],\n",
              "\n",
              "       [[ 11.,  11.,   0.],\n",
              "        [ 86.,  75.,  29.],\n",
              "        [172., 158., 119.],\n",
              "        ...,\n",
              "        [ 45.,  45.,  11.],\n",
              "        [ 25.,   7.,   7.],\n",
              "        [116.,  38.,   0.]],\n",
              "\n",
              "       [[  3.,   0.,   4.],\n",
              "        [169., 163., 105.],\n",
              "        [155., 129., 140.],\n",
              "        ...,\n",
              "        [105.,  77.,  29.],\n",
              "        [183., 177., 141.],\n",
              "        [128., 111., 103.]]], dtype=float32)"
            ]
          },
          "metadata": {},
          "execution_count": 35
        }
      ]
    },
    {
      "cell_type": "code",
      "source": [
        "narray = np.expand_dims(narray,axis=0)\n",
        "narray"
      ],
      "metadata": {
        "colab": {
          "base_uri": "https://localhost:8080/"
        },
        "id": "v0_gJ38QJBaV",
        "outputId": "ff742895-5aa2-4b1d-98dd-a0184017ba90"
      },
      "execution_count": null,
      "outputs": [
        {
          "output_type": "execute_result",
          "data": {
            "text/plain": [
              "array([[[[ 63.,  88., 154.],\n",
              "         [ 70.,  94., 166.],\n",
              "         [ 55.,  81., 156.],\n",
              "         ...,\n",
              "         [176., 185., 200.],\n",
              "         [173., 184., 202.],\n",
              "         [181., 187., 199.]],\n",
              "\n",
              "        [[ 18.,  45., 148.],\n",
              "         [ 54.,  81., 158.],\n",
              "         [ 58.,  84., 158.],\n",
              "         ...,\n",
              "         [179., 189., 201.],\n",
              "         [187., 195., 208.],\n",
              "         [186., 194., 205.]],\n",
              "\n",
              "        [[  2.,  22., 143.],\n",
              "         [ 10.,  34., 156.],\n",
              "         [ 51.,  77., 172.],\n",
              "         ...,\n",
              "         [189., 199., 211.],\n",
              "         [193., 199., 215.],\n",
              "         [189., 195., 209.]],\n",
              "\n",
              "        ...,\n",
              "\n",
              "        [[ 29.,  33.,   6.],\n",
              "         [101.,  91.,  56.],\n",
              "         [103.,  66.,  22.],\n",
              "         ...,\n",
              "         [ 40.,  15.,  21.],\n",
              "         [ 92.,  65.,  72.],\n",
              "         [188., 173., 144.]],\n",
              "\n",
              "        [[ 11.,  11.,   0.],\n",
              "         [ 86.,  75.,  29.],\n",
              "         [172., 158., 119.],\n",
              "         ...,\n",
              "         [ 45.,  45.,  11.],\n",
              "         [ 25.,   7.,   7.],\n",
              "         [116.,  38.,   0.]],\n",
              "\n",
              "        [[  3.,   0.,   4.],\n",
              "         [169., 163., 105.],\n",
              "         [155., 129., 140.],\n",
              "         ...,\n",
              "         [105.,  77.,  29.],\n",
              "         [183., 177., 141.],\n",
              "         [128., 111., 103.]]]], dtype=float32)"
            ]
          },
          "metadata": {},
          "execution_count": 36
        }
      ]
    },
    {
      "cell_type": "code",
      "source": [
        "cnn.predict(narray)"
      ],
      "metadata": {
        "colab": {
          "base_uri": "https://localhost:8080/"
        },
        "id": "ceZVqseeJHH7",
        "outputId": "9fb67c01-e4c3-4ba6-b711-416fdea4f1cd"
      },
      "execution_count": null,
      "outputs": [
        {
          "output_type": "execute_result",
          "data": {
            "text/plain": [
              "array([[0., 0., 0., 0., 1.]], dtype=float32)"
            ]
          },
          "metadata": {},
          "execution_count": 37
        }
      ]
    },
    {
      "cell_type": "code",
      "source": [
        "xtrain.class_indices"
      ],
      "metadata": {
        "colab": {
          "base_uri": "https://localhost:8080/"
        },
        "id": "MoIzPejOJkvW",
        "outputId": "8918b52b-7fc3-4437-cf7c-017357702ad7"
      },
      "execution_count": null,
      "outputs": [
        {
          "output_type": "execute_result",
          "data": {
            "text/plain": [
              "{'daisy': 0, 'dandelion': 1, 'rose': 2, 'sunflower': 3, 'tulip': 4}"
            ]
          },
          "metadata": {},
          "execution_count": 38
        }
      ]
    },
    {
      "cell_type": "code",
      "source": [
        "op = ['daisy','dandelion','rose','sunflower','tulip']\n",
        "pred = np.argmax(cnn.predict(narray))\n",
        "op[pred]"
      ],
      "metadata": {
        "colab": {
          "base_uri": "https://localhost:8080/",
          "height": 36
        },
        "id": "ODJbSWLqMAcM",
        "outputId": "6b606131-a24f-4b3d-e41f-a4060fecebe8"
      },
      "execution_count": null,
      "outputs": [
        {
          "output_type": "execute_result",
          "data": {
            "text/plain": [
              "'tulip'"
            ],
            "application/vnd.google.colaboratory.intrinsic+json": {
              "type": "string"
            }
          },
          "metadata": {},
          "execution_count": 40
        }
      ]
    }
  ],
  "metadata": {
    "accelerator": "GPU",
    "colab": {
      "provenance": [],
      "collapsed_sections": []
    },
    "kernelspec": {
      "display_name": "Python 3",
      "name": "python3"
    },
    "language_info": {
      "name": "python"
    }
  },
  "nbformat": 4,
  "nbformat_minor": 0
}