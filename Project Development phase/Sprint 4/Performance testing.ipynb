{
 "cells": [
  {
   "cell_type": "markdown",
   "metadata": {},
   "source": [
    "Let's get started!"
   ]
  },
  {
   "cell_type": "markdown",
   "metadata": {},
   "source": [
    "This notebook is divided into the following sections.\n",
    "\n",
    "0. [Importing required Libraries](#0)\n",
    "1. [Loading the dataset](#1)\n",
    "2. [Data Visualization](#2)\n",
    "3. [Performing Data Preprocessing](#3)\n",
    "4. [Defining custom Convolutional Neural Network](#4)\n",
    "5. [Training the model on the data](#5)\n",
    "6. [Model evaluation](#6)"
   ]
  },
  {
   "cell_type": "markdown",
   "metadata": {},
   "source": [
    "## 0. Import Libraries\n",
    "<div id=\"0\">\n",
    "</div>"
   ]
  },
  {
   "cell_type": "markdown",
   "metadata": {},
   "source": [
    "Before starting with the dataset, we require to import certain libraries to aid us in data preprocessing, visualisation and training. They are imported as shown below."
   ]
  },
  {
   "cell_type": "code",
   "execution_count": null,
   "metadata": {
    "_cell_guid": "b1076dfc-b9ad-4769-8c92-a6c4dae69d19",
    "_uuid": "8f2839f25d086af736a60e9eeb907d3b93b6e0e5",
    "execution": {
     "iopub.execute_input": "2022-11-10T17:26:40.51435Z",
     "iopub.status.busy": "2022-11-10T17:26:40.513913Z",
     "iopub.status.idle": "2022-11-10T17:26:40.533607Z",
     "shell.execute_reply": "2022-11-10T17:26:40.532212Z",
     "shell.execute_reply.started": "2022-11-10T17:26:40.514311Z"
    }
   },
   "outputs": [],
   "source": [
    "# To check if GPU is active\n",
    "from tensorflow.python.client import device_lib\n",
    "import tensorflow as tf\n",
    "\n",
    "# Load Data\n",
    "import os\n",
    "import cv2\n",
    "import numpy as np\n",
    "\n",
    "# Data Visualisation\n",
    "import matplotlib.pyplot as plt\n",
    "\n",
    "# Model Training\n",
    "from tensorflow.keras import utils\n",
    "from tensorflow.keras.optimizers import Adam\n",
    "from tensorflow.keras.models import Sequential\n",
    "from tensorflow.keras.layers import Dense, Dropout, Flatten, Conv2D, MaxPooling2D, BatchNormalization\n",
    "from sklearn.model_selection import train_test_split"
   ]
  },
  {
   "cell_type": "markdown",
   "metadata": {},
   "source": [
    "As we would be training a CNN model, a GPU would speed up the training process by manifolds whereas the model would take hours to train on a CPU. Hence, let's verify the presence of a GPU below. \n",
    "\n",
    "If the GPU is not available, you can turn it on by clicking at the three dots on the top right, going to Accelerators and clicking on your preferred GPU option."
   ]
  },
  {
   "cell_type": "code",
   "execution_count": null,
   "metadata": {
    "execution": {
     "iopub.execute_input": "2022-11-10T17:43:21.339352Z",
     "iopub.status.busy": "2022-11-10T17:43:21.338995Z",
     "iopub.status.idle": "2022-11-10T17:43:21.349087Z",
     "shell.execute_reply": "2022-11-10T17:43:21.346856Z",
     "shell.execute_reply.started": "2022-11-10T17:43:21.339323Z"
    }
   },
   "outputs": [],
   "source": [
    "print(device_lib.list_local_devices())"
   ]
  },
  {
   "cell_type": "markdown",
   "metadata": {},
   "source": [
    "## 1. Load Data\n",
    "<div id=\"1\">\n",
    "</div>"
   ]
  },
  {
   "cell_type": "markdown",
   "metadata": {},
   "source": [
    "The ASL Dataset contains 29 classes of images, including all the alphabets, delete, space and nothing. The data is divided into two folders for test and training purposes. \n",
    "\n",
    "Here, we would use the training data for training and validation purposes. The test data would be used later for model evaluation."
   ]
  },
  {
   "cell_type": "markdown",
   "metadata": {},
   "source": [
    "Let us define the data directories now."
   ]
  },
  {
   "cell_type": "code",
   "execution_count": null,
   "metadata": {
    "execution": {
     "iopub.execute_input": "2022-11-10T17:27:05.213431Z",
     "iopub.status.busy": "2022-11-10T17:27:05.212471Z",
     "iopub.status.idle": "2022-11-10T17:27:05.219138Z",
     "shell.execute_reply": "2022-11-10T17:27:05.217991Z",
     "shell.execute_reply.started": "2022-11-10T17:27:05.213376Z"
    }
   },
   "outputs": [],
   "source": [
    "#train_dir = '../input/asl-alphabet/asl_alphabet_train/asl_alphabet_train'\n",
    "#test_dir = '../input/asl-alphabet/asl_alphabet_test/asl_alphabet_test'\n",
    "train_dir='dataset/training_set'\n",
    "test_dir='dataset/test_set'"
   ]
  },
  {
   "cell_type": "code",
   "execution_count": null,
   "metadata": {},
   "outputs": [],
   "source": [
    "pwd"
   ]
  },
  {
   "cell_type": "markdown",
   "metadata": {},
   "source": [
    "To obtain image data, let us read the folders of all classes and store them inside single arrays of images (X)and their corresponding labels (y). Since we are reading and storing 87,000 images, this step would require some time to finish."
   ]
  },
  {
   "cell_type": "code",
   "execution_count": null,
   "metadata": {
    "execution": {
     "iopub.execute_input": "2022-11-10T17:27:08.743343Z",
     "iopub.status.busy": "2022-11-10T17:27:08.742965Z",
     "iopub.status.idle": "2022-11-10T17:37:40.607633Z",
     "shell.execute_reply": "2022-11-10T17:37:40.606531Z",
     "shell.execute_reply.started": "2022-11-10T17:27:08.74331Z"
    }
   },
   "outputs": [],
   "source": [
    "def get_data(data_dir) :\n",
    "    images = []\n",
    "    labels = []\n",
    "    \n",
    "    dir_list = os.listdir(data_dir)\n",
    "    for i in range(len(dir_list)):\n",
    "        print(\"Obtaining images of\", dir_list[i], \"...\")\n",
    "        for image in os.listdir(data_dir + \"/\" + dir_list[i]):\n",
    "            img = cv2.imread(data_dir + '/' + dir_list[i] + '/' + image)\n",
    "            img = cv2.resize(img, (32, 32))\n",
    "            images.append(img)\n",
    "            labels.append(i)\n",
    "    \n",
    "    return images, labels\n",
    "        \n",
    "X, y = get_data(train_dir)"
   ]
  },
  {
   "cell_type": "markdown",
   "metadata": {},
   "source": [
    "Before moving forward, let us verify the size of both X and y, to ensure all the data is read."
   ]
  },
  {
   "cell_type": "code",
   "execution_count": null,
   "metadata": {
    "execution": {
     "iopub.execute_input": "2022-11-10T17:37:40.609978Z",
     "iopub.status.busy": "2022-11-10T17:37:40.609585Z",
     "iopub.status.idle": "2022-11-10T17:37:40.619892Z",
     "shell.execute_reply": "2022-11-10T17:37:40.614963Z",
     "shell.execute_reply.started": "2022-11-10T17:37:40.609942Z"
    }
   },
   "outputs": [],
   "source": [
    "print(len(X), len(y))"
   ]
  },
  {
   "cell_type": "markdown",
   "metadata": {},
   "source": [
    "## 2. Data Visualisation\n",
    "<div id=\"2\">\n",
    "</div>"
   ]
  },
  {
   "cell_type": "markdown",
   "metadata": {},
   "source": [
    "Before preprocessing our data, let us explore and gain insight into the images we are dealing with. For simplicity, let us load one sample image from each class."
   ]
  },
  {
   "cell_type": "code",
   "execution_count": null,
   "metadata": {
    "execution": {
     "iopub.execute_input": "2022-11-10T17:37:40.622308Z",
     "iopub.status.busy": "2022-11-10T17:37:40.621868Z",
     "iopub.status.idle": "2022-11-10T17:37:40.628935Z",
     "shell.execute_reply": "2022-11-10T17:37:40.627808Z",
     "shell.execute_reply.started": "2022-11-10T17:37:40.622271Z"
    }
   },
   "outputs": [],
   "source": [
    "classes = ['A', 'B', 'C', 'D', 'E', 'F', 'G', 'H', 'I', 'J', 'K', 'L', 'M', 'N', 'O', 'P', 'Q', 'R', 'S', 'T', 'U', 'V', \n",
    "           'W', 'X', 'Y', 'Z', 'del', 'nothing', 'space']"
   ]
  },
  {
   "cell_type": "code",
   "execution_count": null,
   "metadata": {
    "execution": {
     "iopub.execute_input": "2022-11-10T17:37:40.632121Z",
     "iopub.status.busy": "2022-11-10T17:37:40.631729Z",
     "iopub.status.idle": "2022-11-10T17:37:42.208175Z",
     "shell.execute_reply": "2022-11-10T17:37:42.203791Z",
     "shell.execute_reply.started": "2022-11-10T17:37:40.632086Z"
    }
   },
   "outputs": [],
   "source": [
    "def plot_sample_images():\n",
    "    figure = plt.figure()\n",
    "    plt.figure(figsize=(16,5))\n",
    "\n",
    "    for i in range (0,29):\n",
    "        plt.subplot(3,10,i+1)\n",
    "        plt.xticks([])\n",
    "        plt.yticks([])\n",
    "        path = train_dir + \"/{0}/{0}1.jpg\".format(classes[i])\n",
    "        img = plt.imread(path)\n",
    "        plt.imshow(img)\n",
    "        plt.xlabel(classes[i])\n",
    "        \n",
    "plot_sample_images()"
   ]
  },
  {
   "cell_type": "markdown",
   "metadata": {},
   "source": [
    "We can observe various sign language images as seen above. These denote different alphabets and symbols that our model would be trained to recognize. "
   ]
  },
  {
   "cell_type": "markdown",
   "metadata": {},
   "source": [
    "## 3. Data Preprocessing\n",
    "<div id=\"3\">\n",
    "</div>"
   ]
  },
  {
   "cell_type": "markdown",
   "metadata": {},
   "source": [
    "Before feeding the data to our model, we convert into numpy arrays and normalise the values by dividing the image pixel values by 255. \n",
    "\n",
    "Then, we divide our training data into training and testing sets to be used by the model. "
   ]
  },
  {
   "cell_type": "code",
   "execution_count": null,
   "metadata": {
    "execution": {
     "iopub.execute_input": "2022-11-10T17:37:42.209661Z",
     "iopub.status.busy": "2022-11-10T17:37:42.209277Z",
     "iopub.status.idle": "2022-11-10T17:37:43.062511Z",
     "shell.execute_reply": "2022-11-10T17:37:43.061393Z",
     "shell.execute_reply.started": "2022-11-10T17:37:42.209617Z"
    }
   },
   "outputs": [],
   "source": [
    "def preprocess_data(X, y):\n",
    "    np_X = np.array(X)\n",
    "    normalised_X = np_X.astype('float32')/255.0\n",
    "    \n",
    "    label_encoded_y = utils.to_categorical(y)\n",
    "    \n",
    "    x_train, x_test, y_train, y_test = train_test_split(normalised_X, label_encoded_y, test_size = 0.1)\n",
    "    \n",
    "    return x_train, x_test, y_train, y_test\n",
    "\n",
    "x_train, x_test, y_train, y_test = preprocess_data(X, y)"
   ]
  },
  {
   "cell_type": "markdown",
   "metadata": {},
   "source": [
    "Let us confirm the size of training and testing data."
   ]
  },
  {
   "cell_type": "code",
   "execution_count": null,
   "metadata": {
    "execution": {
     "iopub.execute_input": "2022-11-10T17:37:43.065348Z",
     "iopub.status.busy": "2022-11-10T17:37:43.064492Z",
     "iopub.status.idle": "2022-11-10T17:37:43.07177Z",
     "shell.execute_reply": "2022-11-10T17:37:43.070563Z",
     "shell.execute_reply.started": "2022-11-10T17:37:43.065301Z"
    }
   },
   "outputs": [],
   "source": [
    "print(\"Training data:\", x_train.shape)\n",
    "print(\"Test data:\", x_test.shape)"
   ]
  },
  {
   "cell_type": "markdown",
   "metadata": {},
   "source": [
    "## 4. Define CNN Model\n",
    "<div id=\"4\">\n",
    "</div>"
   ]
  },
  {
   "cell_type": "markdown",
   "metadata": {},
   "source": [
    "Next, we define the architecture of our custom CNN Model. "
   ]
  },
  {
   "cell_type": "markdown",
   "metadata": {},
   "source": [
    "I have trained the model for 15 epochs, with the standard batch size of 32. Feel free to experiment with them for your use cases."
   ]
  },
  {
   "cell_type": "code",
   "execution_count": null,
   "metadata": {
    "execution": {
     "iopub.execute_input": "2022-11-10T17:43:33.615115Z",
     "iopub.status.busy": "2022-11-10T17:43:33.614726Z",
     "iopub.status.idle": "2022-11-10T17:43:33.619986Z",
     "shell.execute_reply": "2022-11-10T17:43:33.6188Z",
     "shell.execute_reply.started": "2022-11-10T17:43:33.615083Z"
    }
   },
   "outputs": [],
   "source": [
    "classes = int(29)\n",
    "batch = 32\n",
    "epochs = 10\n",
    "learning_rate = 0.001"
   ]
  },
  {
   "cell_type": "markdown",
   "metadata": {},
   "source": [
    "For our model, let us initialize a Keras Sequential model. \n",
    "\n",
    "The defined model is a 4 layer deep CNN model. Batch normalisation and dropout layers have been added to avoid overfitting on the training set and perform regularization. Max pooling is also applied.\n",
    "\n",
    "The three CNN layers have been flattened out and connected to a dense layer before performing classification using the softmax activation function.\n",
    "\n",
    "This model is created by experimenting with various layers to achieve the maximum validation accuracy."
   ]
  },
  {
   "cell_type": "code",
   "execution_count": null,
   "metadata": {
    "execution": {
     "iopub.execute_input": "2022-11-10T17:43:36.585642Z",
     "iopub.status.busy": "2022-11-10T17:43:36.585159Z",
     "iopub.status.idle": "2022-11-10T17:43:36.746059Z",
     "shell.execute_reply": "2022-11-10T17:43:36.744948Z",
     "shell.execute_reply.started": "2022-11-10T17:43:36.585572Z"
    }
   },
   "outputs": [],
   "source": [
    "model = Sequential()\n",
    "\n",
    "model.add(Conv2D(64, (3, 3), padding='same', input_shape=(32, 32, 3), activation='relu'))\n",
    "model.add(MaxPooling2D(pool_size=(2, 2)))\n",
    "model.add(BatchNormalization())\n",
    "\n",
    "model.add(Conv2D(128, (3, 3), padding='same', input_shape=(32, 32, 3), activation='relu'))\n",
    "model.add(MaxPooling2D(pool_size=(2, 2)))\n",
    "model.add(BatchNormalization())\n",
    "model.add(Dropout(0.2))\n",
    "\n",
    "model.add(Conv2D(256, (3, 3), padding='same', input_shape=(32, 32, 3), activation='relu'))\n",
    "model.add(MaxPooling2D(pool_size=(2, 2)))\n",
    "model.add(BatchNormalization())\n",
    "\n",
    "model.add(Flatten())\n",
    "model.add(Dropout(0.2))\n",
    "model.add(Dense(1024, activation='relu'))\n",
    "model.add(Dense(classes, activation='softmax'))"
   ]
  },
  {
   "cell_type": "markdown",
   "metadata": {},
   "source": [
    "Adam is used as the optimizer here with 0.001 as its learning rate.\n",
    "\n",
    "Since this is a multiclass classification, categorical crossentropy is chosen as the loss function. The model is trained on the metric of accuracy."
   ]
  },
  {
   "cell_type": "markdown",
   "metadata": {
    "execution": {
     "iopub.execute_input": "2022-11-10T17:43:40.843271Z",
     "iopub.status.busy": "2022-11-10T17:43:40.842898Z",
     "iopub.status.idle": "2022-11-10T17:43:40.855807Z",
     "shell.execute_reply": "2022-11-10T17:43:40.854685Z",
     "shell.execute_reply.started": "2022-11-10T17:43:40.843242Z"
    }
   },
   "source": [
    "from tensorflow.keras import metrics\n",
    "adam = Adam(lr=learning_rate)\n",
    "model.compile(optimizer=adam, loss='categorical_crossentropy', metrics=['accuracy',metrics.Precision(), metrics.Recall()])"
   ]
  },
  {
   "cell_type": "markdown",
   "metadata": {},
   "source": [
    "The summary of our CNN architecture can be seen below. \n",
    "Overall it contains 4,596,765 trainable parameters."
   ]
  },
  {
   "cell_type": "code",
   "execution_count": null,
   "metadata": {
    "execution": {
     "iopub.execute_input": "2022-11-10T17:43:47.666833Z",
     "iopub.status.busy": "2022-11-10T17:43:47.666375Z",
     "iopub.status.idle": "2022-11-10T17:43:47.680889Z",
     "shell.execute_reply": "2022-11-10T17:43:47.679718Z",
     "shell.execute_reply.started": "2022-11-10T17:43:47.666771Z"
    }
   },
   "outputs": [],
   "source": [
    "model.summary()"
   ]
  },
  {
   "cell_type": "code",
   "execution_count": 23,
   "metadata": {},
   "outputs": [],
   "source": [
    "from tensorflow.keras import metrics\n",
    "adam = Adam(lr=learning_rate)\n",
    "model.compile(loss='categorical_crossentropy',optimizer='adam',metrics=['accuracy',metrics.Precision(), metrics.Recall()])\n",
    "#history = model.fit(x_train,y_train,batch_size=batch,steps_per_epoch=len(x_train),epochs=10)"
   ]
  },
  {
   "cell_type": "markdown",
   "metadata": {},
   "source": [
    "## 5. Train Model\n",
    "<div id=\"5\">\n",
    "</div>"
   ]
  },
  {
   "cell_type": "code",
   "execution_count": 24,
   "metadata": {
    "execution": {
     "iopub.execute_input": "2022-11-10T17:43:55.587597Z",
     "iopub.status.busy": "2022-11-10T17:43:55.58646Z",
     "iopub.status.idle": "2022-11-10T17:46:39.781935Z",
     "shell.execute_reply": "2022-11-10T17:46:39.780872Z",
     "shell.execute_reply.started": "2022-11-10T17:43:55.587555Z"
    }
   },
   "outputs": [
    {
     "name": "stdout",
     "output_type": "stream",
     "text": [
      "Epoch 1/10\n",
      "1958/1958 [==============================] - 243s 123ms/step - loss: 0.4391 - accuracy: 0.8608 - precision_2: 0.9144 - recall_2: 0.8315 - val_loss: 0.1304 - val_accuracy: 0.9573 - val_precision_2: 0.9631 - val_recall_2: 0.9513\n",
      "Epoch 2/10\n",
      "1958/1958 [==============================] - 229s 117ms/step - loss: 0.1126 - accuracy: 0.9655 - precision_2: 0.9690 - recall_2: 0.9628 - val_loss: 0.2045 - val_accuracy: 0.9352 - val_precision_2: 0.9399 - val_recall_2: 0.9313\n",
      "Epoch 3/10\n",
      "1958/1958 [==============================] - 229s 117ms/step - loss: 0.0860 - accuracy: 0.9755 - precision_2: 0.9771 - recall_2: 0.9742 - val_loss: 0.8423 - val_accuracy: 0.8285 - val_precision_2: 0.8338 - val_recall_2: 0.8261\n",
      "Epoch 4/10\n",
      "1958/1958 [==============================] - 228s 116ms/step - loss: 0.0635 - accuracy: 0.9832 - precision_2: 0.9840 - recall_2: 0.9826 - val_loss: 0.1478 - val_accuracy: 0.9627 - val_precision_2: 0.9650 - val_recall_2: 0.9612\n",
      "Epoch 5/10\n",
      "1958/1958 [==============================] - 231s 118ms/step - loss: 0.0496 - accuracy: 0.9870 - precision_2: 0.9876 - recall_2: 0.9866 - val_loss: 0.1992 - val_accuracy: 0.9519 - val_precision_2: 0.9554 - val_recall_2: 0.9501\n",
      "Epoch 6/10\n",
      "1958/1958 [==============================] - 235s 120ms/step - loss: 0.0533 - accuracy: 0.9869 - precision_2: 0.9874 - recall_2: 0.9866 - val_loss: 0.3137 - val_accuracy: 0.9379 - val_precision_2: 0.9411 - val_recall_2: 0.9352\n",
      "Epoch 7/10\n",
      "1958/1958 [==============================] - 300s 153ms/step - loss: 0.0428 - accuracy: 0.9901 - precision_2: 0.9904 - recall_2: 0.9899 - val_loss: 1.4870 - val_accuracy: 0.7995 - val_precision_2: 0.8055 - val_recall_2: 0.7959\n",
      "Epoch 8/10\n",
      "1958/1958 [==============================] - 368s 188ms/step - loss: 0.0367 - accuracy: 0.9912 - precision_2: 0.9913 - recall_2: 0.9909 - val_loss: 0.0232 - val_accuracy: 0.9930 - val_precision_2: 0.9935 - val_recall_2: 0.9927\n",
      "Epoch 9/10\n",
      "1958/1958 [==============================] - 243s 124ms/step - loss: 0.0362 - accuracy: 0.9912 - precision_2: 0.9915 - recall_2: 0.9910 - val_loss: 0.0260 - val_accuracy: 0.9921 - val_precision_2: 0.9923 - val_recall_2: 0.9920\n",
      "Epoch 10/10\n",
      "1958/1958 [==============================] - 242s 124ms/step - loss: 0.0356 - accuracy: 0.9920 - precision_2: 0.9924 - recall_2: 0.9920 - val_loss: 0.0135 - val_accuracy: 0.9951 - val_precision_2: 0.9952 - val_recall_2: 0.9950\n"
     ]
    }
   ],
   "source": [
    "history = model.fit(x_train, y_train, batch_size=batch, epochs=epochs, validation_split=0.2, shuffle = True, verbose=1)"
   ]
  },
  {
   "cell_type": "code",
   "execution_count": 25,
   "metadata": {},
   "outputs": [
    {
     "data": {
      "text/plain": [
       "'C:\\\\Users\\\\Cliff\\\\Desktop\\\\Real-Time-Communication-Specially-Abled-main\\\\Real-Time-Communication-Specially-Abled-main\\\\ProjectFiles'"
      ]
     },
     "execution_count": 25,
     "metadata": {},
     "output_type": "execute_result"
    }
   ],
   "source": [
    "pwd"
   ]
  },
  {
   "cell_type": "code",
   "execution_count": 26,
   "metadata": {},
   "outputs": [],
   "source": [
    "#save model\n",
    "model.save('aslmodel1.h5')\n",
    "#model=aslmodel1.h5"
   ]
  },
  {
   "cell_type": "markdown",
   "metadata": {},
   "source": [
    "## 6. Evaluate Model\n",
    "<div id=\"6\">\n",
    "</div>"
   ]
  },
  {
   "cell_type": "markdown",
   "metadata": {},
   "source": [
    "After completing the training of the model, let us evaluate its efficiency on the test data."
   ]
  },
  {
   "cell_type": "code",
   "execution_count": null,
   "metadata": {
    "execution": {
     "iopub.execute_input": "2022-11-10T17:46:39.785176Z",
     "iopub.status.busy": "2022-11-10T17:46:39.784458Z",
     "iopub.status.idle": "2022-11-10T17:46:40.891538Z",
     "shell.execute_reply": "2022-11-10T17:46:40.890661Z",
     "shell.execute_reply.started": "2022-11-10T17:46:39.785131Z"
    }
   },
   "outputs": [],
   "source": [
    " # test_loss, test_acc = model.evaluate(x_test, y_test)\n",
    "  #print('Test accuracy:', test_acc)\n",
    "  #print('Test loss:', test_loss)"
   ]
  },
  {
   "cell_type": "markdown",
   "metadata": {},
   "source": [
    "It reports **0.99885** Test accuracy which is very commendable. \n",
    "\n",
    "Now let us plot accuracy and loss over the training epochs to better understand the training of our model."
   ]
  },
  {
   "cell_type": "code",
   "execution_count": 44,
   "metadata": {},
   "outputs": [
    {
     "data": {
      "image/png": "[encoded data removed]",
      "text/plain": [
       "<Figure size 864x864 with 1 Axes>"
      ]
     },
     "metadata": {
      "needs_background": "light"
     },
     "output_type": "display_data"
    },
    {
     "data": {
      "text/plain": [
       "<Figure size 1440x1440 with 0 Axes>"
      ]
     },
     "metadata": {},
     "output_type": "display_data"
    }
   ],
   "source": [
    "def prcurve(model):\n",
    "\n",
    "  plt.figure(figsize=(12, 12))\n",
    "  plt.subplot(3, 2,1)\n",
    "  plt.plot(history.history['val_precision_2'], label = 'train_precision')\n",
    "  plt.plot(history.history['val_recall_2'], label = 'train_recall')\n",
    "  plt.xlabel('epoch')\n",
    "  plt.ylabel('Precision and Recall')\n",
    "  plt.legend()\n",
    "  plt.figure(figsize=(20,20))\n",
    "  plt.show()\n",
    "\n",
    "\n",
    "    \n",
    "prcurve(model)"
   ]
  },
  {
   "cell_type": "code",
   "execution_count": 29,
   "metadata": {
    "execution": {
     "iopub.execute_input": "2022-11-10T17:46:40.894043Z",
     "iopub.status.busy": "2022-11-10T17:46:40.893398Z",
     "iopub.status.idle": "2022-11-10T17:46:41.23742Z",
     "shell.execute_reply": "2022-11-10T17:46:41.236501Z",
     "shell.execute_reply.started": "2022-11-10T17:46:40.894005Z"
    }
   },
   "outputs": [
    {
     "data": {
      "image/png": "[encoded data removed]",
      "text/plain": [
       "<Figure size 864x864 with 2 Axes>"
      ]
     },
     "metadata": {
      "needs_background": "light"
     },
     "output_type": "display_data"
    }
   ],
   "source": [
    "def plot_results(model):\n",
    "\n",
    "  plt.figure(figsize=(12, 12))\n",
    "  plt.subplot(3, 2, 1)\n",
    "  plt.plot(history.history['accuracy'], label = 'train_accuracy')\n",
    "  plt.plot(history.history['val_accuracy'], label = 'val_accuracy')\n",
    "  plt.xlabel('epoch')\n",
    "  plt.ylabel('accuracy')\n",
    "  plt.legend()\n",
    "  plt.subplot(3, 2, 2)\n",
    "  plt.plot(history.history['loss'], label = 'train_loss')\n",
    "  plt.plot(history.history['val_loss'], label = 'val_loss')\n",
    "  plt.xlabel('epoch')\n",
    "  plt.ylabel('accuracy')\n",
    "  plt.legend()\n",
    "  plt.show()\n",
    "\n",
    "\n",
    "    \n",
    "plot_results(model)"
   ]
  },
  {
   "cell_type": "markdown",
   "metadata": {},
   "source": [
    "As you can observe, the training and validation loss decreases with epochs while the training and validation accuracy increases. Our training and validation metrics continue to be relative, indicating that the model is generalised and not overfitting. "
   ]
  },
  {
   "cell_type": "code",
   "execution_count": 30,
   "metadata": {},
   "outputs": [
    {
     "name": "stdout",
     "output_type": "stream",
     "text": [
      "A C:\\Users\\Cliff\\Desktop\\Real-Time-Communication-Specially-Abled-main\\Real-Time-Communication-Specially-Abled-main\\ProjectFiles\\dataset\\training_set\\A\\A1.jpg\n"
     ]
    }
   ],
   "source": [
    "files = []\n",
    "labels = []\n",
    "directory = 'C:\\\\Users\\\\Cliff\\\\Desktop\\\\Real-Time-Communication-Specially-Abled-main\\\\Real-Time-Communication-Specially-Abled-main\\\\ProjectFiles\\\\dataset\\\\training_set'\n",
    "sub_directory = os.listdir(directory)\n",
    "for s in sub_directory:\n",
    "    for f in os.listdir(os.path.join(directory, s)):\n",
    "        labels.append(s)\n",
    "        files.append(os.path.join(directory, s, f))\n",
    "print(labels[0], files[0])"
   ]
  },
  {
   "cell_type": "code",
   "execution_count": 31,
   "metadata": {},
   "outputs": [
    {
     "name": "stdout",
     "output_type": "stream",
     "text": [
      "Found 87000 files belonging to 29 classes.\n",
      "Using 69600 files for training.\n",
      "Found 87000 files belonging to 29 classes.\n",
      "Using 17400 files for validation.\n"
     ]
    }
   ],
   "source": [
    "VALIDATION_SPLIT = 0.2\n",
    "SEED = 2\n",
    "IMAGE_SIZE = (32, 32)\n",
    "#EPOCHS = 20\n",
    "LEARNING_RATE = 0.05\n",
    "BATCH_SIZE = 128\n",
    "#PATIENCE = 3\n",
    "train_ds = tf.keras.preprocessing.image_dataset_from_directory(\n",
    "            directory,\n",
    "            validation_split = VALIDATION_SPLIT,\n",
    "            subset = 'training',\n",
    "            seed = SEED,\n",
    "            image_size = IMAGE_SIZE,\n",
    "            batch_size = BATCH_SIZE)\n",
    "\n",
    "val_ds = tf.keras.preprocessing.image_dataset_from_directory(\n",
    "            directory,\n",
    "            validation_split = VALIDATION_SPLIT,\n",
    "            subset = 'validation',\n",
    "            seed = SEED,\n",
    "            image_size = IMAGE_SIZE,\n",
    "            batch_size = BATCH_SIZE)"
   ]
  },
  {
   "cell_type": "code",
   "execution_count": 32,
   "metadata": {},
   "outputs": [],
   "source": [
    "from tensorflow.data import AUTOTUNE\n",
    "normalization_layer = tf.keras.layers.experimental.preprocessing.Rescaling(1./255)\n",
    "class_names = train_ds.class_names\n",
    "\n",
    "train_ds = train_ds.map(lambda x, y: (normalization_layer(x), y), num_parallel_calls = AUTOTUNE)\n",
    "val_ds = val_ds.map(lambda x, y: (normalization_layer(x), y),num_parallel_calls = AUTOTUNE)"
   ]
  },
  {
   "cell_type": "code",
   "execution_count": 33,
   "metadata": {},
   "outputs": [],
   "source": [
    "class_names\n",
    "num_classes = len(class_names)"
   ]
  },
  {
   "cell_type": "code",
   "execution_count": 34,
   "metadata": {},
   "outputs": [
    {
     "data": {
      "image/png": "[encoded data removed]",
      "text/plain": [
       "<Figure size 720x720 with 9 Axes>"
      ]
     },
     "metadata": {
      "needs_background": "light"
     },
     "output_type": "display_data"
    }
   ],
   "source": [
    "plt.figure(figsize=(10, 10))\n",
    "for images, labels in train_ds.take(1):\n",
    "    for i in range(9):\n",
    "        ax = plt.subplot(3, 3, i + 1)\n",
    "        plt.imshow(images[i].numpy().astype(\"float32\"))\n",
    "        plt.title(class_names[labels[i]])\n",
    "        plt.axis(\"off\")"
   ]
  },
  {
   "cell_type": "code",
   "execution_count": 36,
   "metadata": {},
   "outputs": [],
   "source": [
    "train_ds = train_ds.cache().prefetch(buffer_size=AUTOTUNE)\n",
    "val_ds = val_ds.cache().prefetch(buffer_size=AUTOTUNE)"
   ]
  },
  {
   "cell_type": "code",
   "execution_count": 37,
   "metadata": {},
   "outputs": [
    {
     "name": "stdout",
     "output_type": "stream",
     "text": [
      "136/136 [==============================] - 20s 141ms/step\n"
     ]
    }
   ],
   "source": [
    "predictions = model.predict(val_ds)\n",
    "predictions = tf.argmax(predictions, axis = 1)\n",
    "validations = tf.concat([y for x, y in val_ds], axis = 0)\n",
    "conversions = {index : letter for letter, index in zip(class_names, range(len(class_names)))}"
   ]
  },
  {
   "cell_type": "code",
   "execution_count": 38,
   "metadata": {},
   "outputs": [],
   "source": [
    "test = predictions[predictions == 1]\n",
    "pred_labels = np.empty(shape = predictions.numpy().shape, dtype = 'U10')\n",
    "val_labels = np.empty(shape = predictions.numpy().shape, dtype = 'U10')\n",
    "\n",
    "for k, v in conversions.items():\n",
    "    predictions_n = predictions.numpy()\n",
    "    validations_n = validations.numpy()\n",
    "    pred_labels[predictions_n == k] = v\n",
    "    val_labels[validations_n == k] = v"
   ]
  },
  {
   "cell_type": "code",
   "execution_count": 47,
   "metadata": {},
   "outputs": [
    {
     "data": {
      "text/plain": [
       "<AxesSubplot:>"
      ]
     },
     "execution_count": 47,
     "metadata": {},
     "output_type": "execute_result"
    },
    {
     "data": {
      "image/png": "[encoded data removed]",
      "text/plain": [
       "<Figure size 1440x1440 with 2 Axes>"
      ]
     },
     "metadata": {
      "needs_background": "light"
     },
     "output_type": "display_data"
    }
   ],
   "source": [
    "from sklearn.metrics import confusion_matrix, ConfusionMatrixDisplay\n",
    "import pandas as pd\n",
    "import seaborn as sns\n",
    "conf = confusion_matrix(val_labels, pred_labels)\n",
    "row_sums = conf.sum(axis = 1, keepdims = True)\n",
    "norm_conf = conf/row_sums\n",
    "np.fill_diagonal(norm_conf, 0)\n",
    "index = class_names\n",
    "column = class_names\n",
    "cm_df = pd.DataFrame(norm_conf, index, column)\n",
    "fig, ax = plt.subplots(1, figsize = (20, 20))\n",
    "sns.heatmap(cm_df,cmap=\"OrRd\")"
   ]
  }
 ],
 "metadata": {
  "kernelspec": {
   "display_name": "Python 3 (ipykernel)",
   "language": "python",
   "name": "python3"
  },
  "language_info": {
   "codemirror_mode": {
    "name": "ipython",
    "version": 3
   },
   "file_extension": ".py",
   "mimetype": "text/x-python",
   "name": "python",
   "nbconvert_exporter": "python",
   "pygments_lexer": "ipython3",
   "version": "3.9.7"
  }
 },
 "nbformat": 4,
 "nbformat_minor": 4
}
